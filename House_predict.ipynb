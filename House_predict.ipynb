{
  "nbformat": 4,
  "nbformat_minor": 0,
  "metadata": {
    "colab": {
      "provenance": [],
      "authorship_tag": "ABX9TyMwg3HWhnoTeXgByVjmPhLY",
      "include_colab_link": true
    },
    "kernelspec": {
      "name": "python3",
      "display_name": "Python 3"
    },
    "language_info": {
      "name": "python"
    }
  },
  "cells": [
    {
      "cell_type": "markdown",
      "metadata": {
        "id": "view-in-github",
        "colab_type": "text"
      },
      "source": [
        "<a href=\"https://colab.research.google.com/github/udayameister/TensorFlow-for-Machine-Learning-/blob/main/House_predict.ipynb\" target=\"_parent\"><img src=\"https://colab.research.google.com/assets/colab-badge.svg\" alt=\"Open In Colab\"/></a>"
      ]
    },
    {
      "cell_type": "code",
      "execution_count": 3,
      "metadata": {
        "colab": {
          "base_uri": "https://localhost:8080/"
        },
        "id": "FM-PMTK3ZxGe",
        "outputId": "75b523b1-44ba-46e6-d281-81645ab8f117"
      },
      "outputs": [
        {
          "output_type": "stream",
          "name": "stderr",
          "text": [
            "/usr/local/lib/python3.11/dist-packages/keras/src/layers/core/dense.py:87: UserWarning: Do not pass an `input_shape`/`input_dim` argument to a layer. When using Sequential models, prefer using an `Input(shape)` object as the first layer in the model instead.\n",
            "  super().__init__(activity_regularizer=activity_regularizer, **kwargs)\n"
          ]
        },
        {
          "output_type": "stream",
          "name": "stdout",
          "text": [
            "\u001b[1m1/1\u001b[0m \u001b[32m━━━━━━━━━━━━━━━━━━━━\u001b[0m\u001b[37m\u001b[0m \u001b[1m0s\u001b[0m 58ms/step\n",
            "Predicted price for a 7.0-bedroom house: $406,964.34\n"
          ]
        }
      ],
      "source": [
        "import numpy as np\n",
        "import tensorflow as tf\n",
        "from tensorflow import keras\n",
        "\n",
        "# 1. Prepare training data\n",
        "# X: number of bedrooms\n",
        "# y: scaled house prices (in 100k units)\n",
        "X = np.array([1, 2, 3, 4, 5, 6], dtype=float)\n",
        "y = np.array([1.0, 1.5, 2.0, 2.5, 3.0, 3.5], dtype=float)  # price in 100k\n",
        "\n",
        "# 2. Build the neural network model\n",
        "model = keras.Sequential([\n",
        "    keras.layers.Dense(units=1, input_shape=[1])  # Single neuron\n",
        "])\n",
        "\n",
        "# 3. Compile the model\n",
        "model.compile(optimizer='sgd', loss='mean_squared_error')\n",
        "\n",
        "# 4. Train the model\n",
        "model.fit(X, y, epochs=500, verbose=0)  # train quietly\n",
        "\n",
        "# 5. Predict house price for 7-bedroom house\n",
        "bedrooms = 7.0\n",
        "predicted_price_scaled = model.predict([bedrooms])[0][0]\n",
        "predicted_price = predicted_price_scaled * 100000  # scale up to get full price\n",
        "\n",
        "print(f\"Predicted price for a {bedrooms}-bedroom house: ${predicted_price:,.2f}\")\n"
      ]
    }
  ]
}